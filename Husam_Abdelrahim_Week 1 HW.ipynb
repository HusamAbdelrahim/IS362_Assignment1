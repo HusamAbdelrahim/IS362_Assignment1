{
  "metadata": {
    "kernelspec": {
      "name": "python",
      "display_name": "Python (Pyodide)",
      "language": "python"
    },
    "language_info": {
      "codemirror_mode": {
        "name": "python",
        "version": 3
      },
      "file_extension": ".py",
      "mimetype": "text/x-python",
      "name": "python",
      "nbconvert_exporter": "python",
      "pygments_lexer": "ipython3",
      "version": "3.8"
    }
  },
  "nbformat_minor": 5,
  "nbformat": 4,
  "cells": [
    {
      "id": "ce568d77-4e4a-41e8-8503-532dcc03d252",
      "cell_type": "code",
      "source": "import pandas as pd #importing pandas ",
      "metadata": {
        "trusted": true
      },
      "outputs": [],
      "execution_count": 8
    },
    {
      "id": "5822b89a-552c-484c-834f-3d069020b8c8",
      "cell_type": "code",
      "source": "# Using a dictory and putting in the context of Students, Hair, Eye, and Weight\n\ndata = {\n    'Student': ['Tommy', 'Fred', 'Cratus', 'Husam', 'Randy', 'Ariel'], # Added my name \"Husam\" to student\n    'Hair_Color': ['Brown', 'Grey', 'Blonde', 'Light Brown', 'Black and Brown', 'Brown'],  # Added Light Brown\n    'Eye_Color': ['Hazel', 'Green', 'Blue', 'Brown', 'Hazel and Blue', 'Blue'],  # Added last Value\n    'Weight in Kilograms': ['60', '80', '76', '60', '88', '85']\n}\ndf = pd.DataFrame(data) #we are going to convery our dict into a DataFrame (Pandas)",
      "metadata": {
        "trusted": true
      },
      "outputs": [],
      "execution_count": 9
    },
    {
      "id": "2d7d7d4e-9a3d-4fd9-bc86-704e7080ff52",
      "cell_type": "code",
      "source": "df.index = range(1, len(df) + 1) #We are going to be creating a sequence",
      "metadata": {
        "trusted": true
      },
      "outputs": [],
      "execution_count": 10
    },
    {
      "id": "116e4e8b-02cf-49ca-b5ee-d21068bbbb89",
      "cell_type": "code",
      "source": "df",
      "metadata": {
        "trusted": true
      },
      "outputs": [
        {
          "execution_count": 11,
          "output_type": "execute_result",
          "data": {
            "text/plain": "  Student       Hair_Color       Eye_Color Weight in Kilograms\n1   Tommy            Brown           Hazel                  60\n2    Fred             Grey           Green                  80\n3  Cratus           Blonde            Blue                  76\n4   Husam      Light Brown           Brown                  60\n5   Randy  Black and Brown  Hazel and Blue                  88\n6   Ariel            Brown            Blue                  85",
            "text/html": "<div>\n<style scoped>\n    .dataframe tbody tr th:only-of-type {\n        vertical-align: middle;\n    }\n\n    .dataframe tbody tr th {\n        vertical-align: top;\n    }\n\n    .dataframe thead th {\n        text-align: right;\n    }\n</style>\n<table border=\"1\" class=\"dataframe\">\n  <thead>\n    <tr style=\"text-align: right;\">\n      <th></th>\n      <th>Student</th>\n      <th>Hair_Color</th>\n      <th>Eye_Color</th>\n      <th>Weight in Kilograms</th>\n    </tr>\n  </thead>\n  <tbody>\n    <tr>\n      <th>1</th>\n      <td>Tommy</td>\n      <td>Brown</td>\n      <td>Hazel</td>\n      <td>60</td>\n    </tr>\n    <tr>\n      <th>2</th>\n      <td>Fred</td>\n      <td>Grey</td>\n      <td>Green</td>\n      <td>80</td>\n    </tr>\n    <tr>\n      <th>3</th>\n      <td>Cratus</td>\n      <td>Blonde</td>\n      <td>Blue</td>\n      <td>76</td>\n    </tr>\n    <tr>\n      <th>4</th>\n      <td>Husam</td>\n      <td>Light Brown</td>\n      <td>Brown</td>\n      <td>60</td>\n    </tr>\n    <tr>\n      <th>5</th>\n      <td>Randy</td>\n      <td>Black and Brown</td>\n      <td>Hazel and Blue</td>\n      <td>88</td>\n    </tr>\n    <tr>\n      <th>6</th>\n      <td>Ariel</td>\n      <td>Brown</td>\n      <td>Blue</td>\n      <td>85</td>\n    </tr>\n  </tbody>\n</table>\n</div>"
          },
          "metadata": {}
        }
      ],
      "execution_count": 11
    },
    {
      "id": "0c02d677-0f74-410e-b986-c0f34730729e",
      "cell_type": "code",
      "source": "df ['Hair_Color']",
      "metadata": {
        "trusted": true
      },
      "outputs": [
        {
          "execution_count": 12,
          "output_type": "execute_result",
          "data": {
            "text/plain": "1              Brown\n2               Grey\n3             Blonde\n4        Light Brown\n5    Black and Brown\n6              Brown\nName: Hair_Color, dtype: object"
          },
          "metadata": {}
        }
      ],
      "execution_count": 12
    },
    {
      "id": "fee69d6f-7403-4b82-9493-6fb48ad2c837",
      "cell_type": "code",
      "source": "df [['Eye_Color']]",
      "metadata": {
        "trusted": true
      },
      "outputs": [
        {
          "execution_count": 13,
          "output_type": "execute_result",
          "data": {
            "text/plain": "        Eye_Color\n1           Hazel\n2           Green\n3            Blue\n4           Brown\n5  Hazel and Blue\n6            Blue",
            "text/html": "<div>\n<style scoped>\n    .dataframe tbody tr th:only-of-type {\n        vertical-align: middle;\n    }\n\n    .dataframe tbody tr th {\n        vertical-align: top;\n    }\n\n    .dataframe thead th {\n        text-align: right;\n    }\n</style>\n<table border=\"1\" class=\"dataframe\">\n  <thead>\n    <tr style=\"text-align: right;\">\n      <th></th>\n      <th>Eye_Color</th>\n    </tr>\n  </thead>\n  <tbody>\n    <tr>\n      <th>1</th>\n      <td>Hazel</td>\n    </tr>\n    <tr>\n      <th>2</th>\n      <td>Green</td>\n    </tr>\n    <tr>\n      <th>3</th>\n      <td>Blue</td>\n    </tr>\n    <tr>\n      <th>4</th>\n      <td>Brown</td>\n    </tr>\n    <tr>\n      <th>5</th>\n      <td>Hazel and Blue</td>\n    </tr>\n    <tr>\n      <th>6</th>\n      <td>Blue</td>\n    </tr>\n  </tbody>\n</table>\n</div>"
          },
          "metadata": {}
        }
      ],
      "execution_count": 13
    },
    {
      "id": "9369d529-1563-4880-a897-ea3a07f1a60b",
      "cell_type": "code",
      "source": "df[['Student', 'Weight in Kilograms']]",
      "metadata": {
        "trusted": true
      },
      "outputs": [
        {
          "execution_count": 14,
          "output_type": "execute_result",
          "data": {
            "text/plain": "  Student Weight in Kilograms\n1   Tommy                  60\n2    Fred                  80\n3  Cratus                  76\n4   Husam                  60\n5   Randy                  88\n6   Ariel                  85",
            "text/html": "<div>\n<style scoped>\n    .dataframe tbody tr th:only-of-type {\n        vertical-align: middle;\n    }\n\n    .dataframe tbody tr th {\n        vertical-align: top;\n    }\n\n    .dataframe thead th {\n        text-align: right;\n    }\n</style>\n<table border=\"1\" class=\"dataframe\">\n  <thead>\n    <tr style=\"text-align: right;\">\n      <th></th>\n      <th>Student</th>\n      <th>Weight in Kilograms</th>\n    </tr>\n  </thead>\n  <tbody>\n    <tr>\n      <th>1</th>\n      <td>Tommy</td>\n      <td>60</td>\n    </tr>\n    <tr>\n      <th>2</th>\n      <td>Fred</td>\n      <td>80</td>\n    </tr>\n    <tr>\n      <th>3</th>\n      <td>Cratus</td>\n      <td>76</td>\n    </tr>\n    <tr>\n      <th>4</th>\n      <td>Husam</td>\n      <td>60</td>\n    </tr>\n    <tr>\n      <th>5</th>\n      <td>Randy</td>\n      <td>88</td>\n    </tr>\n    <tr>\n      <th>6</th>\n      <td>Ariel</td>\n      <td>85</td>\n    </tr>\n  </tbody>\n</table>\n</div>"
          },
          "metadata": {}
        }
      ],
      "execution_count": 14
    },
    {
      "id": "58f74d05-033c-467d-81ec-a60ad52dddc6",
      "cell_type": "code",
      "source": "df[2:5]",
      "metadata": {
        "trusted": true
      },
      "outputs": [
        {
          "execution_count": 15,
          "output_type": "execute_result",
          "data": {
            "text/plain": "  Student       Hair_Color       Eye_Color Weight in Kilograms\n3  Cratus           Blonde            Blue                  76\n4   Husam      Light Brown           Brown                  60\n5   Randy  Black and Brown  Hazel and Blue                  88",
            "text/html": "<div>\n<style scoped>\n    .dataframe tbody tr th:only-of-type {\n        vertical-align: middle;\n    }\n\n    .dataframe tbody tr th {\n        vertical-align: top;\n    }\n\n    .dataframe thead th {\n        text-align: right;\n    }\n</style>\n<table border=\"1\" class=\"dataframe\">\n  <thead>\n    <tr style=\"text-align: right;\">\n      <th></th>\n      <th>Student</th>\n      <th>Hair_Color</th>\n      <th>Eye_Color</th>\n      <th>Weight in Kilograms</th>\n    </tr>\n  </thead>\n  <tbody>\n    <tr>\n      <th>3</th>\n      <td>Cratus</td>\n      <td>Blonde</td>\n      <td>Blue</td>\n      <td>76</td>\n    </tr>\n    <tr>\n      <th>4</th>\n      <td>Husam</td>\n      <td>Light Brown</td>\n      <td>Brown</td>\n      <td>60</td>\n    </tr>\n    <tr>\n      <th>5</th>\n      <td>Randy</td>\n      <td>Black and Brown</td>\n      <td>Hazel and Blue</td>\n      <td>88</td>\n    </tr>\n  </tbody>\n</table>\n</div>"
          },
          "metadata": {}
        }
      ],
      "execution_count": 15
    },
    {
      "id": "37845677-7d63-42b8-b946-60583685d35f",
      "cell_type": "code",
      "source": "",
      "metadata": {
        "trusted": true
      },
      "outputs": [],
      "execution_count": null
    }
  ]
}
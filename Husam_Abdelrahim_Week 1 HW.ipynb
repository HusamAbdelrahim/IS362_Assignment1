{
  "metadata": {
    "kernelspec": {
      "name": "python",
      "display_name": "Python (Pyodide)",
      "language": "python"
    },
    "language_info": {
      "codemirror_mode": {
        "name": "python",
        "version": 3
      },
      "file_extension": ".py",
      "mimetype": "text/x-python",
      "name": "python",
      "nbconvert_exporter": "python",
      "pygments_lexer": "ipython3",
      "version": "3.8"
    }
  },
  "nbformat_minor": 5,
  "nbformat": 4,
  "cells": [
    {
      "id": "4ae75cce-ef93-4513-83fc-d770c3f8d076",
      "cell_type": "markdown",
      "source": "# Question 1",
      "metadata": {}
    },
    {
      "id": "84ed7904-5d9f-4cc5-87ac-61c58d1fba47",
      "cell_type": "code",
      "source": "one = 1\ntwo = 2\nthree = 3\nfour = 4\ncan = \"can\"\ndo = \"do\"\npython = \"python\"\nmore = \"more\"\n\nprint(one, two, three, four, can, do, python, more)",
      "metadata": {
        "trusted": true
      },
      "outputs": [
        {
          "name": "stdout",
          "output_type": "stream",
          "text": "1 2 3 4 can do python more\n"
        }
      ],
      "execution_count": 1
    },
    {
      "id": "77f1db99-e36f-446a-868f-328cd697cb56",
      "cell_type": "markdown",
      "source": "# Question 2",
      "metadata": {}
    },
    {
      "id": "dcdb0b43-841b-4a6e-8068-620e8c4e44db",
      "cell_type": "code",
      "source": "number1 = 15\nnumber2 = 30\n\nprint(\"The result is {}\".format(number1 * number2))",
      "metadata": {
        "trusted": true
      },
      "outputs": [
        {
          "name": "stdout",
          "output_type": "stream",
          "text": "The result is 450\n"
        }
      ],
      "execution_count": 2
    },
    {
      "id": "20b48f67-9e97-4476-9b3c-4cad50265514",
      "cell_type": "markdown",
      "source": "# Question 3",
      "metadata": {}
    },
    {
      "id": "d91a92bb-b507-4f06-b91f-78d31d01b4af",
      "cell_type": "code",
      "source": "numbers_x = [10, 20, 30, 40, 10]\nnumbers_y = [75, 65, 35, 75, 30]\n\ndef check_numbers(numbers):\n    print(f\"Given list: {numbers}\")\n    result = numbers [0] == numbers [-1]\n    print(f\"result is {result}\")\n\ncheck_numbers(numbers_x)\ncheck_numbers(numbers_y)",
      "metadata": {
        "trusted": true
      },
      "outputs": [
        {
          "name": "stdout",
          "output_type": "stream",
          "text": "Given list: [10, 20, 30, 40, 10]\nresult is True\nGiven list: [75, 65, 35, 75, 30]\nresult is False\n"
        }
      ],
      "execution_count": 3
    },
    {
      "id": "2a198c7f-efc3-41ff-9954-2b8216c59f81",
      "cell_type": "markdown",
      "source": "# Question 4",
      "metadata": {}
    },
    {
      "id": "083651b8-cd60-4b78-bf1a-7563cb384c73",
      "cell_type": "code",
      "source": "numbers = [10,20,33,46,55]\n\nprint (f\"Given list is {numbers}\")\nprint(\"\\nDivisible by 5\")\n\nfor index, num in enumerate(numbers):\n    if num % 5 == 0:\n        print (num)",
      "metadata": {
        "trusted": true
      },
      "outputs": [
        {
          "name": "stdout",
          "output_type": "stream",
          "text": "Given list is [10, 20, 33, 46, 55]\n\nDivisible by 5\n10\n20\n55\n"
        }
      ],
      "execution_count": 4
    },
    {
      "id": "72035de1-ec2b-42fc-956f-d5b51b0f1570",
      "cell_type": "markdown",
      "source": "# Question 5",
      "metadata": {}
    },
    {
      "id": "89da3107-9cc9-4305-ab15-781a7d56cd0b",
      "cell_type": "code",
      "source": "str_x = \"Anjali is good developer. Anjali is a writer\"\nprint(f\"Anjali appeared {str_x.count('Anjali')} times\")",
      "metadata": {
        "trusted": true
      },
      "outputs": [
        {
          "name": "stdout",
          "output_type": "stream",
          "text": "Anjali appeared 2 times\n"
        }
      ],
      "execution_count": 5
    },
    {
      "id": "f004b458-ef0c-4d33-ac77-a7f4ed9c70bb",
      "cell_type": "markdown",
      "source": "# Question 6",
      "metadata": {}
    },
    {
      "id": "c0a9d264-e0b2-4d61-a756-bf2279ea0973",
      "cell_type": "code",
      "source": "for i in range (1,6):\n    for j in range(i):\n        print(i, end=' ')\n    print()",
      "metadata": {
        "trusted": true
      },
      "outputs": [
        {
          "name": "stdout",
          "output_type": "stream",
          "text": "1 \n2 2 \n3 3 3 \n4 4 4 4 \n5 5 5 5 5 \n"
        }
      ],
      "execution_count": 6
    },
    {
      "id": "8d497322-b8cd-4441-9f76-5a57556fb390",
      "cell_type": "markdown",
      "source": "# Question 7",
      "metadata": {}
    },
    {
      "id": "b7cc1d5f-d656-48bf-aebd-cbc62100e75a",
      "cell_type": "code",
      "source": "for i in range (1, 11):\n    for j in range(1, 11):\n        print(i * j, end=' ')\n    print()",
      "metadata": {
        "trusted": true
      },
      "outputs": [
        {
          "name": "stdout",
          "output_type": "stream",
          "text": "1 2 3 4 5 6 7 8 9 10 \n2 4 6 8 10 12 14 16 18 20 \n3 6 9 12 15 18 21 24 27 30 \n4 8 12 16 20 24 28 32 36 40 \n5 10 15 20 25 30 35 40 45 50 \n6 12 18 24 30 36 42 48 54 60 \n7 14 21 28 35 42 49 56 63 70 \n8 16 24 32 40 48 56 64 72 80 \n9 18 27 36 45 54 63 72 81 90 \n10 20 30 40 50 60 70 80 90 100 \n"
        }
      ],
      "execution_count": 7
    },
    {
      "id": "a19dac18-a745-4434-b72d-726c579deb6e",
      "cell_type": "markdown",
      "source": "# Question 8",
      "metadata": {}
    },
    {
      "id": "bde334c4-9852-41e2-9df6-7db49f1b236e",
      "cell_type": "code",
      "source": "import numpy as np\n\nTemp_K = [390.65, 107.52, 225.25, 275.98, 318.18, 88.45]\ntemp_array = np.array(Temp_K)\n\ntemp_celsius = temp_array - 273.15\n\nprint(\"Temperature in Celsius:\")\nprint(temp_celsius)",
      "metadata": {
        "trusted": true
      },
      "outputs": [
        {
          "name": "stdout",
          "output_type": "stream",
          "text": "Temperature in Celsius:\n[ 117.5  -165.63  -47.9     2.83   45.03 -184.7 ]\n"
        }
      ],
      "execution_count": 8
    },
    {
      "id": "028cad65-e665-4fd0-86f6-639443ff5edd",
      "cell_type": "markdown",
      "source": "# Question 9",
      "metadata": {}
    },
    {
      "id": "0a61e9d8-aecf-4dd7-b85a-ed421ca008a0",
      "cell_type": "code",
      "source": "import pandas as pd #importing pandas \n\ndata = {\n    'Student': ['Tommy', 'Fred', 'Gail', 'Husam', 'Randy', 'Ariel'],\n    'Hair_Color': ['Brown', 'Grey', 'Blonde', 'Light Brown', 'Black and Brown', 'Brown'],\n    'Eye_Color': ['Hazel', 'Green', 'Blue', 'Brown', 'Hazel and Blue', 'Blue'],\n    'Weight in Kilograms': ['60', '80', '76', '60', '88', '85']\n}\ndf = pd.DataFrame(data)\n\ndf.index = range(1, len(df) + 1)\n\n# printing out the entire dataframe as requested \nprint(\"Entire DataFrame:\")\nprint(df)\n\n# We are going to be printing out he hair color\nprint(\"\\nHair Color (Series):\")\nprint(df['Hair_Color'])\n\n# We are going to being printing out hte eye color\nprint(\"\\nEye Color (DataFrame):\")\nprint(df[['Eye_Color']])\n\n# We will be matching the student and the kilograms\nprint(\"\\nStudent and Weight DataFrame:\")\nprint(df[['Student', 'Weight in Kilograms']])\n\n# We are going to print out the secon\nprint(\"\\nSecond to the fourth observations:\")\nprint(df.loc[2:4])",
      "metadata": {
        "trusted": true
      },
      "outputs": [
        {
          "name": "stdout",
          "output_type": "stream",
          "text": "Entire DataFrame:\n  Student       Hair_Color       Eye_Color Weight in Kilograms\n1   Tommy            Brown           Hazel                  60\n2    Fred             Grey           Green                  80\n3    Gail           Blonde            Blue                  76\n4   Husam      Light Brown           Brown                  60\n5   Randy  Black and Brown  Hazel and Blue                  88\n6   Ariel            Brown            Blue                  85\n\nHair Color (Series):\n1              Brown\n2               Grey\n3             Blonde\n4        Light Brown\n5    Black and Brown\n6              Brown\nName: Hair_Color, dtype: object\n\nEye Color (DataFrame):\n        Eye_Color\n1           Hazel\n2           Green\n3            Blue\n4           Brown\n5  Hazel and Blue\n6            Blue\n\nStudent and Weight DataFrame:\n  Student Weight in Kilograms\n1   Tommy                  60\n2    Fred                  80\n3    Gail                  76\n4   Husam                  60\n5   Randy                  88\n6   Ariel                  85\n\nSecond to the fourth observations:\n  Student   Hair_Color Eye_Color Weight in Kilograms\n2    Fred         Grey     Green                  80\n3    Gail       Blonde      Blue                  76\n4   Husam  Light Brown     Brown                  60\n"
        }
      ],
      "execution_count": 2
    },
    {
      "id": "9518a091-d43d-416b-99b4-32616b24fb43",
      "cell_type": "code",
      "source": "",
      "metadata": {
        "trusted": true
      },
      "outputs": [],
      "execution_count": null
    }
  ]
}